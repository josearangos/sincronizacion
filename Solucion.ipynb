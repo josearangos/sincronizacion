{
 "cells": [
  {
   "cell_type": "markdown",
   "metadata": {
    "colab_type": "text",
    "id": "7xxHf5qTZGZs"
   },
   "source": [
    "# Ejercicios\n",
    "\n",
    " INTEGRANTES \n",
    "\n",
    "* JOSE ALBERTO ARANGO SÁNCHEZ\n",
    "* ANDRES RAMIREZ HERNANDEZ"
   ]
  },
  {
   "cell_type": "code",
   "execution_count": 9,
   "metadata": {},
   "outputs": [],
   "source": [
    "import numpy as np\n",
    "import matplotlib.pyplot as plt"
   ]
  },
  {
   "cell_type": "markdown",
   "metadata": {
    "colab_type": "text",
    "id": "Mc6eHOc2ZH6K"
   },
   "source": [
    "1- Consulte el uso de la función gettimeofday para medir el tiempo de ejecución de un programa"
   ]
  },
  {
   "cell_type": "markdown",
   "metadata": {},
   "source": [
    "¿Cómo se utiliza esta función (muestre un ejemplo)?"
   ]
  },
  {
   "cell_type": "markdown",
   "metadata": {},
   "source": [
    "Primero que todo la función gettimeofday es usada para conocer el tiempo y la zona horaria del sistema en el cual la empleamos. Un ejemplo de su uso se encuentra en la ruta: codigo/P_1/P_1.c"
   ]
  },
  {
   "cell_type": "markdown",
   "metadata": {},
   "source": [
    "![texto alternativo](./codigo/P_1/P_1.png)"
   ]
  },
  {
   "cell_type": "markdown",
   "metadata": {},
   "source": [
    "¿Cuál es el intervalo de tiempo más corto que se puede medir con esta función"
   ]
  },
  {
   "cell_type": "markdown",
   "metadata": {},
   "source": [
    "El intervalo mas corto que podemos medir segun la documentación es de 0,001 milisegundos."
   ]
  },
  {
   "cell_type": "markdown",
   "metadata": {
    "colab_type": "text",
    "id": "46521KYvZNz3"
   },
   "source": [
    "2-Consulte cuantas CPUs hay disponibles en el sistema que usted está utilizando. (Pista use el comando lscpu)\n",
    "\n"
   ]
  },
  {
   "cell_type": "markdown",
   "metadata": {
    "colab_type": "text",
    "id": "fw-gBU72whzY"
   },
   "source": [
    "![texto alternativo](https://raw.githubusercontent.com/josearangos/sincronizacion/master/codigo/Imagenes/CPUs.png)"
   ]
  },
  {
   "cell_type": "markdown",
   "metadata": {
    "colab_type": "text",
    "id": "n0o74qlEwry2"
   },
   "source": [
    "El numero de nucleos del procesador no el que se trabaja en los puntos 3 y 6 son 3, ya que son los que permite utilizar la maquina virtual."
   ]
  },
  {
   "cell_type": "markdown",
   "metadata": {
    "colab_type": "text",
    "id": "YaR96Gw6bmtK"
   },
   "source": [
    "3-Desarrolle un programa que utilice un contador concurrente simple. Mida cuánto tiempo lleva incrementar el contador muchas veces a medida que aumenta el número de hilos (1, 2, 4, 8 y 16). Para tal fin, siga las instrucciones que aparecen en el directorio preciso. Una vez complete los pasos continue con el tercer punto."
   ]
  },
  {
   "cell_type": "markdown",
   "metadata": {
    "colab_type": "text",
    "id": "-PxPL_u6dVFi"
   },
   "source": [
    "![texto alternativo](https://raw.githubusercontent.com/josearangos/sincronizacion/master/codigo/Imagenes/Tabla%20P_3.PNG)"
   ]
  },
  {
   "cell_type": "markdown",
   "metadata": {},
   "source": [
    "![texto alternativo](./codigo/P_3/P_3.png)"
   ]
  },
  {
   "cell_type": "markdown",
   "metadata": {
    "colab_type": "text",
    "id": "G_Hu1yEyw-mb"
   },
   "source": [
    "Los cambios no son muy notables mientras se aumenta el numero de hilos esto puede ser a causa de la ejecuciòn en una maquina vistual de linux, pues esta restringe el acceso al procesador."
   ]
  },
  {
   "cell_type": "markdown",
   "metadata": {
    "colab_type": "text",
    "id": "vtCcc4OAbqwW"
   },
   "source": [
    "4-Desarrolle una versión del contador aproximado (sloppy counter) y mida su desempeño a medida que se varía el número de hilos. En este caso, solo maneje un umbral de S = 1024 variando el número de hilos (1, 2, 4, 8 y 16). Las intrucciones para ello se encuentran en el directorio aproximado."
   ]
  },
  {
   "cell_type": "markdown",
   "metadata": {},
   "source": [
    "![texto alternativo](./codigo/P_4/P_4.png)"
   ]
  },
  {
   "cell_type": "markdown",
   "metadata": {
    "colab_type": "text",
    "id": "6J_9-QNhbwDk"
   },
   "source": [
    "5-Grafique los resultados obtenidos de las pruebas recopiladas (en las tablas) para el número de hilos .vs. el tiempo (en segundos), estas siguen la tendencia de la figura 29.5 del libro (la cual se muestra a continuación):"
   ]
  },
  {
   "cell_type": "markdown",
   "metadata": {
    "colab_type": "text",
    "id": "dRkreKE5bzOG"
   },
   "source": [
    "![texto alternativo](https://raw.githubusercontent.com/josearangos/sincronizacion/master/ejercicios/fig_performance.jpg)"
   ]
  },
  {
   "cell_type": "code",
   "execution_count": 13,
   "metadata": {},
   "outputs": [
    {
     "data": {
      "image/png": "[encoded data removed]",
      "text/plain": [
       "<Figure size 432x288 with 1 Axes>"
      ]
     },
     "metadata": {
      "needs_background": "light"
     },
     "output_type": "display_data"
    }
   ],
   "source": [
    "t_precise = np.array([0.527,0.533,1.473,1.671,2.571])\n",
    "t_approximate = np.array([0.408,1.209,1.064,1.313,1.332])\n",
    "threads = np.array([1,2,4,8,16])\n",
    "plt.plot(threads, t_precise,\"-o\",linewidth=1, color=\"pink\",label=\"Precise\")\n",
    "plt.plot(threads, t_approximate,\"-x\",linewidth=1, color=\"pink\",label=\"Approximate\")\n",
    "plt.legend(loc=\"upper left\")\n",
    "plt.title(\"Threads vs Time\")\n",
    "plt.xlabel(\"Threads\")\n",
    "plt.ylabel(\"Time (seconds)\")\n",
    "plt.show()"
   ]
  },
  {
   "cell_type": "markdown",
   "metadata": {},
   "source": [
    "*   ¿Los valores que usted obtuvo siguen una tendencia como la que se muestra en el texto guía (mostrada anteriormente)?"
   ]
  },
  {
   "cell_type": "markdown",
   "metadata": {},
   "source": [
    "En cuanto a los valores que toma NO, pero se conserva en terminos de tiempo que el contador concurrente simple siempre consume mas tiempo en ejecutar "
   ]
  },
  {
   "cell_type": "markdown",
   "metadata": {},
   "source": [
    "*   ¿Cuántas CPUs hay disponibles en el sistema que usted está utilizando?\n",
    "\n",
    "R//: El sistema cuenta con 8 CPUS, como se muestra acontinuación"
   ]
  },
  {
   "cell_type": "markdown",
   "metadata": {},
   "source": [
    "![texto alternativo](./codigo/P_5/P_5.png)"
   ]
  },
  {
   "cell_type": "markdown",
   "metadata": {
    "colab_type": "text",
    "id": "Uyxw5J2Qb7FQ"
   },
   "source": [
    "*   ¿Este número afecta de alguna manera sus mediciones?"
   ]
  },
  {
   "cell_type": "markdown",
   "metadata": {},
   "source": [
    "Claro, el tiempo de ejecución realiando varias pruebas varia, ademas hay que tener encuenta que el número de CPUs es un factor determinante para esto."
   ]
  },
  {
   "cell_type": "markdown",
   "metadata": {
    "colab_type": "text",
    "id": "xsmsfVxncQCT"
   },
   "source": [
    "6-Mejore el archivo test_aproximate_mejorado_counter.c (el cual se encuentra en el directorio aproximado_mejorado) de tal modo que, además de permitir modificar el numero de hilos y el valor máximo del contador a emplear, permita modificar también el umbral o factor de apromación (S), para esto se puede basar en el ejercicio 3. De este modo los parametros serán:"
   ]
  },
  {
   "cell_type": "markdown",
   "metadata": {
    "colab_type": "text",
    "id": "7sxokXp1cZSR"
   },
   "source": [
    "\n",
    "\n",
    "*   Umbral: APPROXIMATION_FACTOR\n",
    "*   Valor máximo del contador: MAXCNT\n",
    "*   Número de hilos que serán lanzados: NUMTHREADS\n",
    "\n",
    "\n",
    "\n",
    "\n",
    "\n"
   ]
  },
  {
   "cell_type": "markdown",
   "metadata": {
    "colab_type": "text",
    "id": "LAymGCNQckO-"
   },
   "source": [
    "Según lo anterior, la forma de pasar argumentos a la aplicación será la siguiente, una vez esté completamente terminada:\n",
    "\n",
    "` ./NOMBRE_EJECUTABLE <APPROXIMATION_FACTOR> <MAXCNT> <NUMTHREADS>`\n",
    "\n",
    "Luego, ejecute varias veces la aplicación dejando constante el valor máximo del contador en 10000000 y el número de hilos en 4, pero cambiando el valor del umbral a los siguientes valores: 1, 2, 4, 8, 16, 32, 64, 128, 256, 512 y 1024. ¿La gráfica sigue una tendencia similar a la mostrada en la figura 29.6 del texto guía (la cual se muestra a continuación)?"
   ]
  },
  {
   "cell_type": "markdown",
   "metadata": {
    "colab_type": "text",
    "id": "btFhdAMv01rp"
   },
   "source": [
    "![texto alternativo](https://raw.githubusercontent.com/josearangos/sincronizacion/master/ejercicios/fig_S.jpg)"
   ]
  },
  {
   "cell_type": "markdown",
   "metadata": {
    "colab_type": "text",
    "id": "1SrbcyD_05t4"
   },
   "source": [
    "La siguiente es la tabla con los resultados de las diferentes pruebas intercambiando el valor del umbral."
   ]
  },
  {
   "cell_type": "markdown",
   "metadata": {
    "colab_type": "text",
    "id": "xN78Ae60xd8u"
   },
   "source": [
    "![texto alternativo](https://raw.githubusercontent.com/josearangos/sincronizacion/master/codigo/Imagenes/Tabla%20P_6.PNG)"
   ]
  },
  {
   "cell_type": "markdown",
   "metadata": {
    "colab_type": "text",
    "id": "lPLzMn9nxfkf"
   },
   "source": [
    "La grafica que se obtiene de la tabla es:"
   ]
  },
  {
   "cell_type": "markdown",
   "metadata": {
    "colab_type": "text",
    "id": "rAtWMfaR0Shs"
   },
   "source": [
    "![texto alternativo](https://raw.githubusercontent.com/josearangos/sincronizacion/master/codigo/Imagenes/Grafica.PNG)"
   ]
  },
  {
   "cell_type": "markdown",
   "metadata": {
    "colab_type": "text",
    "id": "E0B-Uceu0XcC"
   },
   "source": [
    "Claramente los datos obtenidos presentan la misma distribuciòn a la de la figura 29.6.\n"
   ]
  }
 ],
 "metadata": {
  "colab": {
   "name": "Sincronizacion.ipynb",
   "provenance": []
  },
  "kernelspec": {
   "display_name": "Python 3",
   "language": "python",
   "name": "python3"
  },
  "language_info": {
   "codemirror_mode": {
    "name": "ipython",
    "version": 3
   },
   "file_extension": ".py",
   "mimetype": "text/x-python",
   "name": "python",
   "nbconvert_exporter": "python",
   "pygments_lexer": "ipython3",
   "version": "3.7.6"
  }
 },
 "nbformat": 4,
 "nbformat_minor": 4
}
