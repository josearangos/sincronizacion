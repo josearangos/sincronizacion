{
  "nbformat": 4,
  "nbformat_minor": 0,
  "metadata": {
    "colab": {
      "name": "Sincronizacion.ipynb",
      "provenance": []
    },
    "kernelspec": {
      "name": "python3",
      "display_name": "Python 3"
    }
  },
  "cells": [
    {
      "cell_type": "markdown",
      "metadata": {
        "id": "7xxHf5qTZGZs",
        "colab_type": "text"
      },
      "source": [
        "# Ejercicios\n"
      ]
    },
    {
      "cell_type": "markdown",
      "metadata": {
        "id": "Mc6eHOc2ZH6K",
        "colab_type": "text"
      },
      "source": [
        "1- Consulte el uso de la función gettimeofday para medir el tiempo de ejecución de un programa\n",
        "\n",
        "\n",
        "*   ¿Cómo se utiliza esta función (muestre un ejemplo)?\n",
        "*   ¿Cuál es el intervalo de tiempo más corto que se puede medir con esta función?\n",
        "\n",
        "\n",
        "\n"
      ]
    },
    {
      "cell_type": "markdown",
      "metadata": {
        "id": "46521KYvZNz3",
        "colab_type": "text"
      },
      "source": [
        "2-Consulte cuantas CPUs hay disponibles en el sistema que usted está utilizando. (Pista use el comando lscpu)\n",
        "\n"
      ]
    },
    {
      "cell_type": "markdown",
      "metadata": {
        "id": "fw-gBU72whzY",
        "colab_type": "text"
      },
      "source": [
        "![texto alternativo](https://raw.githubusercontent.com/josearangos/sincronizacion/master/codigo/Imagenes/CPUs.png)"
      ]
    },
    {
      "cell_type": "markdown",
      "metadata": {
        "id": "n0o74qlEwry2",
        "colab_type": "text"
      },
      "source": [
        "El numero de nucleos del procesador no el que se trabaja en los puntos 3 y 6 son 3, ya que son los que permite utilizar la maquina virtual."
      ]
    },
    {
      "cell_type": "markdown",
      "metadata": {
        "id": "YaR96Gw6bmtK",
        "colab_type": "text"
      },
      "source": [
        "3-Desarrolle un programa que utilice un contador concurrente simple. Mida cuánto tiempo lleva incrementar el contador muchas veces a medida que aumenta el número de hilos (1, 2, 4, 8 y 16). Para tal fin, siga las instrucciones que aparecen en el directorio preciso. Una vez complete los pasos continue con el tercer punto."
      ]
    },
    {
      "cell_type": "markdown",
      "metadata": {
        "id": "-PxPL_u6dVFi",
        "colab_type": "text"
      },
      "source": [
        "![texto alternativo](https://raw.githubusercontent.com/josearangos/sincronizacion/master/codigo/Imagenes/Tabla%20P_3.PNG)"
      ]
    },
    {
      "cell_type": "markdown",
      "metadata": {
        "id": "G_Hu1yEyw-mb",
        "colab_type": "text"
      },
      "source": [
        "Los cambios no son muy notables mientras se aumenta el numero de hilos esto puede ser a causa de la ejecuciòn en una maquina vistual de linux, pues esta restringe el acceso al procesador."
      ]
    },
    {
      "cell_type": "markdown",
      "metadata": {
        "id": "vtCcc4OAbqwW",
        "colab_type": "text"
      },
      "source": [
        "4-Desarrolle una versión del contador aproximado (sloppy counter) y mida su desempeño a medida que se varía el número de hilos. En este caso, solo maneje un umbral de S = 1024 variando el número de hilos (1, 2, 4, 8 y 16). Las intrucciones para ello se encuentran en el directorio aproximado."
      ]
    },
    {
      "cell_type": "markdown",
      "metadata": {
        "id": "6J_9-QNhbwDk",
        "colab_type": "text"
      },
      "source": [
        "5-Grafique los resultados obtenidos de las pruebas recopiladas (en las tablas) para el número de hilos .vs. el tiempo (en segundos), estas siguen la tendencia de la figura 29.5 del libro (la cual se muestra a continuación):"
      ]
    },
    {
      "cell_type": "markdown",
      "metadata": {
        "id": "dRkreKE5bzOG",
        "colab_type": "text"
      },
      "source": [
        "![texto alternativo](https://raw.githubusercontent.com/josearangos/sincronizacion/master/ejercicios/fig_performance.jpg)"
      ]
    },
    {
      "cell_type": "markdown",
      "metadata": {
        "id": "Uyxw5J2Qb7FQ",
        "colab_type": "text"
      },
      "source": [
        "\n",
        "\n",
        "*   ¿Los valores que usted obtuvo siguen una tendencia como la que se muestra en el texto guía (mostrada anteriormente)?\n",
        "*   ¿Cuántas CPUs hay disponibles en el sistema que usted está utilizando?\n",
        "*   ¿Este número afecta de alguna manera sus mediciones?\n",
        "\n",
        "\n",
        "\n",
        "\n",
        "\n"
      ]
    },
    {
      "cell_type": "markdown",
      "metadata": {
        "id": "xsmsfVxncQCT",
        "colab_type": "text"
      },
      "source": [
        "6-Mejore el archivo test_aproximate_mejorado_counter.c (el cual se encuentra en el directorio aproximado_mejorado) de tal modo que, además de permitir modificar el numero de hilos y el valor máximo del contador a emplear, permita modificar también el umbral o factor de apromación (S), para esto se puede basar en el ejercicio 3. De este modo los parametros serán:"
      ]
    },
    {
      "cell_type": "markdown",
      "metadata": {
        "id": "7sxokXp1cZSR",
        "colab_type": "text"
      },
      "source": [
        "\n",
        "\n",
        "*   Umbral: APPROXIMATION_FACTOR\n",
        "*   Valor máximo del contador: MAXCNT\n",
        "*   Número de hilos que serán lanzados: NUMTHREADS\n",
        "\n",
        "\n",
        "\n",
        "\n",
        "\n"
      ]
    },
    {
      "cell_type": "markdown",
      "metadata": {
        "id": "LAymGCNQckO-",
        "colab_type": "text"
      },
      "source": [
        "Según lo anterior, la forma de pasar argumentos a la aplicación será la siguiente, una vez esté completamente terminada:\n",
        "\n",
        "` ./NOMBRE_EJECUTABLE <APPROXIMATION_FACTOR> <MAXCNT> <NUMTHREADS>`\n",
        "\n",
        "Luego, ejecute varias veces la aplicación dejando constante el valor máximo del contador en 10000000 y el número de hilos en 4, pero cambiando el valor del umbral a los siguientes valores: 1, 2, 4, 8, 16, 32, 64, 128, 256, 512 y 1024. ¿La gráfica sigue una tendencia similar a la mostrada en la figura 29.6 del texto guía (la cual se muestra a continuación)?"
      ]
    },
    {
      "cell_type": "markdown",
      "metadata": {
        "id": "btFhdAMv01rp",
        "colab_type": "text"
      },
      "source": [
        "![texto alternativo](https://raw.githubusercontent.com/josearangos/sincronizacion/master/ejercicios/fig_S.jpg)"
      ]
    },
    {
      "cell_type": "markdown",
      "metadata": {
        "id": "1SrbcyD_05t4",
        "colab_type": "text"
      },
      "source": [
        "La siguiente es la tabla con los resultados de las diferentes pruebas intercambiando el valor del umbral."
      ]
    },
    {
      "cell_type": "markdown",
      "metadata": {
        "id": "xN78Ae60xd8u",
        "colab_type": "text"
      },
      "source": [
        "![texto alternativo](https://raw.githubusercontent.com/josearangos/sincronizacion/master/codigo/Imagenes/Tabla%20P_6.PNG)"
      ]
    },
    {
      "cell_type": "markdown",
      "metadata": {
        "id": "lPLzMn9nxfkf",
        "colab_type": "text"
      },
      "source": [
        "La grafica que se obtiene de la tabla es:"
      ]
    },
    {
      "cell_type": "markdown",
      "metadata": {
        "id": "rAtWMfaR0Shs",
        "colab_type": "text"
      },
      "source": [
        "![texto alternativo](https://raw.githubusercontent.com/josearangos/sincronizacion/master/codigo/Imagenes/Grafica.PNG)"
      ]
    },
    {
      "cell_type": "markdown",
      "metadata": {
        "id": "E0B-Uceu0XcC",
        "colab_type": "text"
      },
      "source": [
        "Claramente los datos obtenidos presentan la misma distribuciòn a la de la figura 29.6.\n"
      ]
    }
  ]
}